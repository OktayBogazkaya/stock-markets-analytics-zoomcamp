{
  "nbformat": 4,
  "nbformat_minor": 0,
  "metadata": {
    "colab": {
      "provenance": []
    },
    "kernelspec": {
      "name": "python3",
      "display_name": "Python 3"
    },
    "language_info": {
      "name": "python"
    }
  },
  "cells": [
    {
      "cell_type": "markdown",
      "source": [
        "## Module 1 Homework\n",
        "\n",
        "In this homework, we're going to download finance data from various sources and make simple calculations/analysis."
      ],
      "metadata": {
        "id": "lii-vf2al7ar"
      }
    },
    {
      "cell_type": "code",
      "source": [
        "# install main library YFinance\n",
        "%%capture\n",
        "!pip install yfinance"
      ],
      "metadata": {
        "id": "1Xg1gdrfmIqz"
      },
      "execution_count": 83,
      "outputs": []
    },
    {
      "cell_type": "code",
      "source": [
        "# IMPORTS\n",
        "import numpy as np\n",
        "import pandas as pd\n",
        "\n",
        "#Fin Data Sources\n",
        "import yfinance as yf\n",
        "import pandas_datareader as pdr\n",
        "\n",
        "#Data viz\n",
        "import plotly.graph_objs as go\n",
        "import plotly.express as px\n",
        "import matplotlib.pyplot as plt\n",
        "\n",
        "#YahooFinance\n",
        "import yfinance as yf\n",
        "\n",
        "import time\n",
        "from datetime import date"
      ],
      "metadata": {
        "id": "qzsHqbVbmOhx"
      },
      "execution_count": 84,
      "outputs": []
    },
    {
      "cell_type": "markdown",
      "source": [
        "### Question 1: [Macro] Average growth of GDP in 2023\n",
        "\n",
        "**What is the average growth (in %) of GDP in 2023?**\n",
        "\n",
        "Download the timeseries Real Gross Domestic Product (GDPC1) from FRED (https://fred.stlouisfed.org/series/GDPC1).\n",
        "Calculate year-over-year (YoY) growth rate (that is, divide current value to one 4 quarters ago). Find the average YoY growth in 2023 (average from 4 YoY numbers).\n",
        "Round to 1 digit after the decimal point: e.g. if you get 5.66% growth => you should answer  5.7"
      ],
      "metadata": {
        "id": "enqismg7l0vV"
      }
    },
    {
      "cell_type": "code",
      "source": [
        "end = date.today()\n",
        "print(f'Year = {end.year}; month= {end.month}; day={end.day}')\n",
        "\n",
        "start = date(year=end.year-2, month=end.month, day=end.day)\n",
        "print(f'Period for indexes: {start} to {end} ')"
      ],
      "metadata": {
        "colab": {
          "base_uri": "https://localhost:8080/"
        },
        "id": "I4SrF-e5l4ts",
        "outputId": "26359933-a529-4459-977b-2f8c27f23a3e"
      },
      "execution_count": 5,
      "outputs": [
        {
          "output_type": "stream",
          "name": "stdout",
          "text": [
            "Year = 2024; month= 4; day=24\n",
            "Period for indexes: 2022-04-24 to 2024-04-24 \n"
          ]
        }
      ]
    },
    {
      "cell_type": "code",
      "source": [
        "# Real Potential Gross Domestic Product (GDPPOT), Billions of Chained 2012 Dollars, QUARTERLY\n",
        "# https://fred.stlouisfed.org/series/GDPC1\n",
        "gdppot = pdr.DataReader(\"GDPC1\", \"fred\", start=start)"
      ],
      "metadata": {
        "id": "b5zkwq3qnC6B"
      },
      "execution_count": 6,
      "outputs": []
    },
    {
      "cell_type": "code",
      "source": [
        "gdppot['gdppot_us_yoy'] = gdppot.GDPC1/gdppot.GDPC1.shift(4)-1\n",
        "gdppot['gdppot_us_qoq'] = gdppot.GDPC1/gdppot.GDPC1.shift(1)-1\n",
        "gdppot['gdppot_us_yoy'].tail()"
      ],
      "metadata": {
        "colab": {
          "base_uri": "https://localhost:8080/"
        },
        "id": "n5UQ3v53nHkI",
        "outputId": "f7981f91-a0c1-4dd4-f0b0-7fb4144aaa94"
      },
      "execution_count": 85,
      "outputs": [
        {
          "output_type": "execute_result",
          "data": {
            "text/plain": [
              "DATE\n",
              "2022-10-01         NaN\n",
              "2023-01-01         NaN\n",
              "2023-04-01         NaN\n",
              "2023-07-01    0.029269\n",
              "2023-10-01    0.031345\n",
              "Name: gdppot_us_yoy, dtype: float64"
            ]
          },
          "metadata": {},
          "execution_count": 85
        }
      ]
    },
    {
      "cell_type": "markdown",
      "source": [
        "\n",
        "\n",
        "> The average growth of GDP in 2023 is **3.1%**\n",
        "\n"
      ],
      "metadata": {
        "id": "WtEeEfTDoXex"
      }
    },
    {
      "cell_type": "markdown",
      "source": [
        "### Question 2. [Macro] Inverse \"Treasury Yield\"\n",
        "\n",
        "**Find the min value of (dgs10-dgs2) after since year 2000 (2000-01-01) and write it down as an answer, round to 1 digit after the decimal point.**\n",
        "\n",
        "\n",
        "Download DGS2 and DGS10 interest rates series (https://fred.stlouisfed.org/series/DGS2,\n",
        " https://fred.stlouisfed.org/series/DGS10). Join them together to one dataframe on date (you might need to read about pandas.DataFrame.join()), calculate the difference dgs10-dgs2 daily.\n",
        "\n",
        "(Additional: think about what does the \"inverted yield curve\" mean for the market and investors? do you see the same thing in your country/market of interest? Do you think it can be a good predictive feature for the models?)"
      ],
      "metadata": {
        "id": "EmjdJ_GKosUv"
      }
    },
    {
      "cell_type": "code",
      "source": [
        "start = date(2000, 1, 1)\n",
        "\n",
        "# https://fred.stlouisfed.org/series/DGS5\n",
        "dgs2 = pdr.DataReader(\"DGS2\", \"fred\", start=start)\n",
        "dgs10 = pdr.DataReader(\"DGS10\", \"fred\", start=start)\n",
        "\n",
        "# Merge the two DataFrames on the date index\n",
        "merged_data = dgs2.merge(dgs10, left_index=True, right_index=True)\n",
        "\n",
        "# Calculate the daily difference between DGS10 and DGS2\n",
        "merged_data['daily_difference'] = merged_data['DGS10'] - merged_data['DGS2']\n",
        "\n",
        "merged_data['daily_difference'].min()"
      ],
      "metadata": {
        "colab": {
          "base_uri": "https://localhost:8080/"
        },
        "id": "wIutTXO4ofab",
        "outputId": "773cb130-3554-40ca-9e30-c1ffac3e1673"
      },
      "execution_count": 16,
      "outputs": [
        {
          "output_type": "execute_result",
          "data": {
            "text/plain": [
              "-1.0800000000000005"
            ]
          },
          "metadata": {},
          "execution_count": 16
        }
      ]
    },
    {
      "cell_type": "markdown",
      "source": [
        "> The min value of (dgs10-dgs2) after since year 2000 is **-1.1**\n"
      ],
      "metadata": {
        "id": "gFAfHf1SpyIn"
      }
    },
    {
      "cell_type": "markdown",
      "source": [
        "### Question 3. [Index] Which Index is better recently?\n",
        "\n",
        "**Compare S&P 500 and IPC Mexico indexes by the 5 year growth and write down the largest value as an answer (%)**\n",
        "\n",
        "Download on Yahoo Finance two daily index prices for S&P 500 (^GSPC, https://finance.yahoo.com/quote/%5EGSPC/) and IPC Mexico (^MXX, https://finance.yahoo.com/quote/%5EMXX/). Compare 5Y growth for both (between 2019-04-09 and 2024-04-09). Select the higher growing index and write down the growth in % (closest integer %). E.g. if ratio end/start was 2.0925 (or growth of 109.25%), you need to write down 109 as your answer.\n",
        "\n",
        "(Additional: think of other indexes and try to download stats and compare the growth? Do create 10Y and 20Y growth stats. What is an average yearly growth rate (CAGR) for each of the indexes you select?)"
      ],
      "metadata": {
        "id": "411v9RkQqM1N"
      }
    },
    {
      "cell_type": "code",
      "source": [
        "# Define start and end dates for the 5-year period\n",
        "start_date = date(2019, 4, 9)\n",
        "end_date = date(2024, 4, 9)\n",
        "\n",
        "# Download data for S&P 500 (^GSPC) and IPC Mexico (^MXX) from Yahoo Finance\n",
        "sp500_data = yf.download('^GSPC', start=start_date, end=end_date)\n",
        "ipc_data = yf.download('^MXX', start=start_date, end=end_date)\n",
        "\n",
        "# Calculate the 5-year growth for both indices\n",
        "sp500_growth = (sp500_data['Adj Close'][-1] / sp500_data['Adj Close'][0] - 1) * 100\n",
        "ipc_growth = (ipc_data['Adj Close'][-1] / ipc_data['Adj Close'][0] - 1) * 100\n",
        "\n",
        "# Select the higher growing index\n",
        "if sp500_growth > ipc_growth:\n",
        "    higher_growing_index = 'S&P 500'\n",
        "    growth = round(sp500_growth)\n",
        "else:\n",
        "    higher_growing_index = 'IPC Mexico'\n",
        "    growth = round(ipc_growth)\n",
        "\n",
        "print(higher_growing_index)\n",
        "print(growth)"
      ],
      "metadata": {
        "colab": {
          "base_uri": "https://localhost:8080/"
        },
        "id": "zmYc4ugoqKbu",
        "outputId": "8b594137-4a9e-40da-a541-8de431ec1eab"
      },
      "execution_count": 82,
      "outputs": [
        {
          "output_type": "stream",
          "name": "stderr",
          "text": [
            "[*********************100%%**********************]  1 of 1 completed\n",
            "[*********************100%%**********************]  1 of 1 completed"
          ]
        },
        {
          "output_type": "stream",
          "name": "stdout",
          "text": [
            "S&P 500\n",
            "81\n"
          ]
        },
        {
          "output_type": "stream",
          "name": "stderr",
          "text": [
            "\n"
          ]
        }
      ]
    },
    {
      "cell_type": "markdown",
      "source": [
        "> The higher growing index between S&P 500 and IPC Mexico is **S&P 500** with a growth of **81%** over the last 5 years\n",
        "\n",
        "\n",
        "\n"
      ],
      "metadata": {
        "id": "H-ptek6yFpC_"
      }
    },
    {
      "cell_type": "markdown",
      "source": [
        "### Question 4. [Stocks OHLCV] 52-weeks range ratio (2023) for the selected stocks\n",
        "\n",
        "\n",
        "**Find the largest range ratio [=(max-min)/max] of Adj.Close prices in 2023**\n",
        "\n",
        "\n",
        "Download the 2023 daily OHLCV data on Yahoo Finance for top6 stocks on earnings (https://companiesmarketcap.com/most-profitable-companies/): 2222.SR,BRK-B, AAPL, MSFT, GOOG, JPM.\n",
        "\n",
        "Here is the example data you should see in Pandas for \"2222.SR\": https://finance.yahoo.com/quote/2222.SR/history\n",
        "\n",
        "Calculate maximum-minimim \"Adj.Close\" price for each stock and divide it by the maximum \"Adj.Close\" value.\n",
        "Round the result to two decimal places (e.g. 0.1575 will be 0.16)\n",
        "\n",
        "(Additional: why this may be important for your research?)"
      ],
      "metadata": {
        "id": "-R_PTv_wsn8f"
      }
    },
    {
      "cell_type": "code",
      "source": [
        "# Define the list of stock symbols\n",
        "stock_symbols = ['2222.SR', 'BRK-B', 'AAPL', 'MSFT', 'GOOG', 'JPM']\n",
        "\n",
        "# Download daily OHLCV data for each stock\n",
        "data = yf.download(stock_symbols, start='2023-01-01', end='2023-12-31')\n",
        "\n",
        "# Calculate maximum-minimum \"Adj.Close\" price ratio for each stock\n",
        "results = {}\n",
        "for stock_symbol in stock_symbols:\n",
        "    max_close = data['Adj Close'][stock_symbol].max()\n",
        "    min_close = data['Adj Close'][stock_symbol].min()\n",
        "    ratio = (max_close - min_close) / max_close\n",
        "    results[stock_symbol] = round(ratio, 2)\n",
        "\n",
        "print(\"Maximum-Minimum Adj.Close price ratio for each stock:\")\n",
        "for stock_symbol, ratio in results.items():\n",
        "    print(f\"{stock_symbol}: {ratio}\")"
      ],
      "metadata": {
        "colab": {
          "base_uri": "https://localhost:8080/"
        },
        "id": "JLjbCZqZtTkJ",
        "outputId": "f99376b0-67c8-4298-a81c-bac8afa8ca6f"
      },
      "execution_count": 28,
      "outputs": [
        {
          "output_type": "stream",
          "name": "stderr",
          "text": [
            "[*********************100%%**********************]  6 of 6 completed"
          ]
        },
        {
          "output_type": "stream",
          "name": "stdout",
          "text": [
            "Maximum-Minimum Adj.Close price ratio for each stock:\n",
            "2222.SR: 0.21\n",
            "BRK-B: 0.21\n",
            "AAPL: 0.37\n",
            "MSFT: 0.42\n",
            "GOOG: 0.39\n",
            "JPM: 0.28\n"
          ]
        },
        {
          "output_type": "stream",
          "name": "stderr",
          "text": [
            "\n"
          ]
        }
      ]
    },
    {
      "cell_type": "markdown",
      "source": [
        "> The largest range ratio of Adj.Close prices in 2023 is **0.42 (MSFT)**\n",
        "\n"
      ],
      "metadata": {
        "id": "3djn7XDbtTAv"
      }
    },
    {
      "cell_type": "markdown",
      "source": [
        "### Question 5. [Stocks] Dividend Yield\n",
        "**Find the largest dividend yield for the same set of stocks**\n",
        "\n",
        "Use the same list of companies (2222.SR,BRK-B, AAPL, MSFT, GOOG, JPM) and download all dividends paid in 2023.\n",
        "You can use `get_actions()` method or `.dividends` field in yfinance library (https://github.com/ranaroussi/yfinance?tab=readme-ov-file#quick-start)\n",
        "\n",
        "Sum up all dividends paid in 2023 per company and divide each value by the closing price (Adj.Close) at the last trading day of the year.\n",
        "\n",
        "Find the maximum value in % and round to 1 digit after the decimal point. (E.g., if you obtained USD 1.25 dividends paid and the end year stock price is $100, the dividend yield is 1.25% -- and your answer should be equal to 1.3)"
      ],
      "metadata": {
        "id": "3nY04LlwuWBT"
      }
    },
    {
      "cell_type": "code",
      "source": [
        "# Download dividends paid in 2023 for each stock\n",
        "dividends = {}\n",
        "for stock_symbol in stock_symbols:\n",
        "    stock = yf.Ticker(stock_symbol)\n",
        "    div = stock.dividends\n",
        "    dividends[stock_symbol] = div[(div.index >= \"2023-01-01\") & (div.index <= \"2023-12-31\")]\n",
        "\n",
        "# Calculate the total dividends paid in 2023 per company\n",
        "total_dividends = {}\n",
        "for stock_symbol, div in dividends.items():\n",
        "    total_dividends[stock_symbol] = div.sum()\n",
        "\n",
        "# Get the closing price (Adj.Close) at the last trading day of the year for each company\n",
        "closing_prices = {}\n",
        "for stock_symbol in stock_symbols:\n",
        "    data = yf.download(stock_symbol, start=\"2023-01-01\", end=\"2023-12-31\")\n",
        "    closing_prices[stock_symbol] = data['Adj Close'].iloc[-1]\n",
        "\n",
        "\n",
        "# Calculate the dividend yield for each company\n",
        "dividend_yield = {}\n",
        "for stock_symbol in stock_symbols:\n",
        "    dividend_yield[stock_symbol] = (total_dividends[stock_symbol] / closing_prices[stock_symbol]) * 100\n",
        "\n",
        "# Find the maximum dividend yield and round to 1 decimal place\n",
        "max_yield = max(dividend_yield.values())\n",
        "max_yield_rounded = round(max_yield, 1)\n",
        "\n",
        "dividend_yield"
      ],
      "metadata": {
        "colab": {
          "base_uri": "https://localhost:8080/"
        },
        "id": "zd-4JUTeuWjv",
        "outputId": "e98c9c50-dfac-4fa7-afa4-a87b1bf34080"
      },
      "execution_count": 41,
      "outputs": [
        {
          "output_type": "stream",
          "name": "stderr",
          "text": [
            "[*********************100%%**********************]  1 of 1 completed\n",
            "[*********************100%%**********************]  1 of 1 completed\n",
            "[*********************100%%**********************]  1 of 1 completed\n",
            "[*********************100%%**********************]  1 of 1 completed\n",
            "[*********************100%%**********************]  1 of 1 completed\n",
            "[*********************100%%**********************]  1 of 1 completed\n"
          ]
        },
        {
          "output_type": "execute_result",
          "data": {
            "text/plain": [
              "{'2222.SR': 2.770149819503256,\n",
              " 'BRK-B': 0.0,\n",
              " 'AAPL': 0.4940592304162832,\n",
              " 'MSFT': 0.7433143940964608,\n",
              " 'GOOG': 0.0,\n",
              " 'JPM': 2.4096079718909573}"
            ]
          },
          "metadata": {},
          "execution_count": 41
        }
      ]
    },
    {
      "cell_type": "markdown",
      "source": [
        "> Investment in **Saudi Arabian Oil Company (2222.SR)** has provided the best yield in terms of dividends in 2023 with **2.8%**\n",
        "\n"
      ],
      "metadata": {
        "id": "RAQyrW-Y2lRi"
      }
    },
    {
      "cell_type": "markdown",
      "source": [
        "### Question 6. [Exploratory] Investigate new metrics\n",
        "\n",
        "**Free text answer**\n",
        "\n",
        "Download and explore a few additional metrics or time series that might be valuable for your project and write down why (briefly)."
      ],
      "metadata": {
        "id": "KK2dl2_j3OBA"
      }
    },
    {
      "cell_type": "code",
      "source": [
        "#Define ticker\n",
        "ticker = \"MSFT\"\n",
        "\n",
        "# Download ticker data\n",
        "stock_symbol = yf.Ticker(ticker)\n",
        "\n",
        "free_cashflow_data = stock_symbol.cashflow.iloc[0]\n",
        "\n",
        "# Plot cash flow data\n",
        "free_cashflow_data.plot(title=f\"{ticker}'s etf stock price\")"
      ],
      "metadata": {
        "colab": {
          "base_uri": "https://localhost:8080/",
          "height": 469
        },
        "id": "vh_jS4Ey3WtB",
        "outputId": "e1888978-0b19-47f3-b7b8-9a4055092f36"
      },
      "execution_count": 80,
      "outputs": [
        {
          "output_type": "execute_result",
          "data": {
            "text/plain": [
              "<Axes: title={'center': \"MSFT's etf stock price\"}>"
            ]
          },
          "metadata": {},
          "execution_count": 80
        },
        {
          "output_type": "display_data",
          "data": {
            "text/plain": [
              "<Figure size 640x480 with 1 Axes>"
            ],
            "image/png": "[encoded data removed]"
          },
          "metadata": {}
        }
      ]
    },
    {
      "cell_type": "markdown",
      "source": [
        "> As earnings include non-cash expenses (like depreciation), I'd prefer **FCF** over earnings, because it reflects the actual cash generated by a company, providing a clearer indication of its financial health and ability to create long-term value.\n",
        "\n"
      ],
      "metadata": {
        "id": "mVLL2ozx_q5D"
      }
    },
    {
      "cell_type": "markdown",
      "source": [
        "### Question 7. [Exploratory] Time-driven strategy description around earnings releases\n",
        "\n",
        "**Free text answer**\n",
        "\n",
        "Explore earning dates for the whole month of April - e.g. using YahooFinance earnings calendar (https://finance.yahoo.com/calendar/earnings?from=2024-04-21&to=2024-04-27&day=2024-04-23). Compare with the previous closed earnings (e.g., recent dates with full data https://finance.yahoo.com/calendar/earnings?from=2024-04-07&to=2024-04-13&day=2024-04-08).\n",
        "\n",
        "Describe an analytical strategy/idea (you're not required to implement it) to select a subset companies of interest based on the future events data."
      ],
      "metadata": {
        "id": "M5xfKFO8Bu-A"
      }
    },
    {
      "cell_type": "markdown",
      "source": [
        "> I would develop a **sentiment analysis** strategy by examining previous earnings calls transcripts (leveraging Python libraries like SpaCy and NLTK), to detect industries with positive and negative outlooks. Then, I would prioritize upcoming earnings calls, taking long positions in companies from positively viewed industries and short positions in companies from negatively viewed industries.\n",
        "\n"
      ],
      "metadata": {
        "id": "UK1JlY16Dkih"
      }
    }
  ]
}